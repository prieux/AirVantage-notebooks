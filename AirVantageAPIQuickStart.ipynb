{
 "metadata": {
  "name": "",
  "signature": "sha256:fbfb3a3eb43472beaf7813500f1ca4b6e0c6bd43d455a4e67365a9841cec7d54"
 },
 "nbformat": 3,
 "nbformat_minor": 0,
 "worksheets": [
  {
   "cells": [
    {
     "cell_type": "markdown",
     "metadata": {},
     "source": [
      "AirVantage API call example\n",
      "=====\n",
      "Connection to server\n",
      "-----\n",
      "The first step is to authenticate against AirVantage platform.\n",
      "\n",
      "As an example, we will use the oauth Resource Owner Flow, given a username and a password as well as a client id and client secret that you can grab adding a new \"API client\" in the AirVantage UI.\n",
      "So in the following cell, you'll have to replace the values for the variables:\n",
      "\n",
      "    base_url\n",
      "    client_id\n",
      "    client_secret\n",
      "\n",
      "At first, input your username and password hacking the notebook with some HTML and javascript:"
     ]
    },
    {
     "cell_type": "code",
     "collapsed": false,
     "input": [
      "from IPython.display import HTML\n",
      "\n",
      "base_url = \"https://<AirVantage server>\"\n",
      "client_id = \"<your client id>\"\n",
      "client_secret = \"<your client secret>\"\n",
      "\n",
      "input_form = \"\"\"\n",
      "<div style=\"background-color:gainsboro; border:solid black; width:300px; padding:20px;\">\n",
      "UserName: <input type=\"text\" id=\"username\"><br>\n",
      "Password: <input type=\"password\" id=\"password\"><br>\n",
      "<button onclick=\"set_credentials()\">Set credentials</button>\n",
      "</div>\n",
      "\"\"\"\n",
      "\n",
      "javascript = \"\"\"\n",
      "<script type=\"text/Javascript\">\n",
      "    function set_credentials(){\n",
      "        var username = document.getElementById('username').value;\n",
      "        var password = document.getElementById('password').value;\n",
      "        var set_username = \"username = '\" + username + \"'\";\n",
      "        var set_password = \"password = '\" + password + \"'\";\n",
      "        var kernel = IPython.notebook.kernel;\n",
      "        kernel.execute(set_username);\n",
      "        kernel.execute(set_password);\n",
      "        alert(\"done!\")\n",
      "    }\n",
      "</script>\n",
      "\"\"\"\n",
      "\n",
      "HTML(input_form + javascript)"
     ],
     "language": "python",
     "metadata": {},
     "outputs": [
      {
       "html": [
        "\n",
        "<div style=\"background-color:gainsboro; border:solid black; width:300px; padding:20px;\">\n",
        "UserName: <input type=\"text\" id=\"username\"><br>\n",
        "Password: <input type=\"password\" id=\"password\"><br>\n",
        "<button onclick=\"set_credentials()\">Set credentials</button>\n",
        "</div>\n",
        "\n",
        "<script type=\"text/Javascript\">\n",
        "    function set_credentials(){\n",
        "        var username = document.getElementById('username').value;\n",
        "        var password = document.getElementById('password').value;\n",
        "        var set_username = \"username = '\" + username + \"'\";\n",
        "        var set_password = \"password = '\" + password + \"'\";\n",
        "        var kernel = IPython.notebook.kernel;\n",
        "        kernel.execute(set_username);\n",
        "        kernel.execute(set_password);\n",
        "        alert(\"done!\")\n",
        "    }\n",
        "</script>\n"
       ],
       "metadata": {},
       "output_type": "pyout",
       "prompt_number": 1,
       "text": [
        "<IPython.core.display.HTML at 0x4480a20>"
       ]
      }
     ],
     "prompt_number": 1
    },
    {
     "cell_type": "markdown",
     "metadata": {},
     "source": [
      "Then run the following example that:\n",
      "\n",
      "* connect to the platform\n",
      "* request a token\n",
      "* display the platform response as raw text"
     ]
    },
    {
     "cell_type": "code",
     "collapsed": false,
     "input": [
      "import requests\n",
      "import json\n",
      "\n",
      "authentication_api_url = base_url + \"/api/oauth/token?grant_type=password&username=\" + username + \"&password=\" + password\n",
      "authentication_api_url += \"&client_id=\" + client_id + \"&client_secret=\" + client_secret\n",
      "\n",
      "response = requests.get(authentication_api_url, verify=False)\n",
      "\n",
      "print(\"response status:\")\n",
      "print(response)\n",
      "print(\"response content:\")\n",
      "print(json.dumps(response.json(), sort_keys=True, indent=4, separators=(',', ': ')))"
     ],
     "language": "python",
     "metadata": {},
     "outputs": [
      {
       "output_type": "stream",
       "stream": "stdout",
       "text": [
        "response status:\n",
        "<Response [200]>\n",
        "response content:\n",
        "{\n",
        "    \"access_token\": \"7b16c8b5-30f9-4790-9579-8d662e883e8a\",\n",
        "    \"expires_in\": 86399,\n",
        "    \"refresh_token\": \"7899afa3-ee9d-4ef8-81b1-33ac3c1eff2c\",\n",
        "    \"token_type\": \"bearer\"\n",
        "}\n"
       ]
      }
     ],
     "prompt_number": 3
    },
    {
     "cell_type": "markdown",
     "metadata": {},
     "source": [
      "That's fine. Next step is to decode json returned data:"
     ]
    },
    {
     "cell_type": "code",
     "collapsed": false,
     "input": [
      "import requests\n",
      "\n",
      "authentication_api_url = base_url + \"/api/oauth/token?grant_type=password&username=\" + username + \"&password=\" + password\n",
      "authentication_api_url += \"&client_id=\" + client_id + \"&client_secret=\" + client_secret\n",
      "\n",
      "response = requests.get(authentication_api_url, verify=False)\n",
      "\n",
      "access_token = response.json().get(\"access_token\")\n",
      "refresh_token = response.json().get(\"refresh_token\")\n",
      "\n",
      "print(\"access token = \" + access_token + \", refresh token = \" + refresh_token)"
     ],
     "language": "python",
     "metadata": {},
     "outputs": [
      {
       "output_type": "stream",
       "stream": "stdout",
       "text": [
        "access token = 60c495cc-0127-4861-804a-ee1aaa886767, refresh token = 83854a95-b790-4b24-a9f4-9ba2371c9b43\n"
       ]
      }
     ],
     "prompt_number": 4
    },
    {
     "cell_type": "markdown",
     "metadata": {},
     "source": [
      "Getting a list of systems\n",
      "------\n",
      "\n",
      "Now a more usefull piece of code that will return a list of systems:"
     ]
    },
    {
     "cell_type": "code",
     "collapsed": false,
     "input": [
      "import requests\n",
      "import json\n",
      "from pandas import DataFrame\n",
      "\n",
      "def get_access_token(base_url, username, password, client_id, client_secret):\n",
      "    authentication_api_url = base_url + \"/api/oauth/token?grant_type=password&username=\" + username + \"&password=\" + password\n",
      "    authentication_api_url += \"&client_id=\" + client_id + \"&client_secret=\" + client_secret\n",
      "    response = requests.get(authentication_api_url, verify=False)\n",
      "    access_token = response.json().get(\"access_token\")\n",
      "    return access_token\n",
      "\n",
      "def get_systems(base_url, access_token):\n",
      "    systems_api_url = base_url + \"/api/v1/systems?fields=uid,name,data\"\n",
      "    systems_api_url += \"&access_token=\" + access_token\n",
      "    response = requests.get(systems_api_url, verify=False)\n",
      "    return response.json().get(\"items\")\n",
      "\n",
      "def get_dataframe_from_systems(systems):\n",
      "    uids = []\n",
      "    network_service_types = []\n",
      "    rssi_levels = []\n",
      "    for system in systems:\n",
      "        data = system[\"data\"]\n",
      "        uids.append(system[\"uid\"])\n",
      "        network_service_types.append(data[\"networkServiceType\"])\n",
      "        rssi_levels.append(data[\"rssiLevel\"])\n",
      "    return DataFrame({\"uid\": uids, \"network service type\": network_service_types, \"rssi level\": rssi_levels})\n",
      "\n",
      "access_token = get_access_token(base_url, username, password, client_id, client_secret)\n",
      "systems = get_systems(base_url, access_token)\n",
      "df = get_dataframe_from_systems(systems)\n",
      "\n",
      "# display the first 10 systems\n",
      "df[:10]"
     ],
     "language": "python",
     "metadata": {},
     "outputs": [
      {
       "html": [
        "<div style=\"max-height:1000px;max-width:1500px;overflow:auto;\">\n",
        "<table border=\"1\" class=\"dataframe\">\n",
        "  <thead>\n",
        "    <tr style=\"text-align: right;\">\n",
        "      <th></th>\n",
        "      <th>network service type</th>\n",
        "      <th>rssi level</th>\n",
        "      <th>uid</th>\n",
        "    </tr>\n",
        "  </thead>\n",
        "  <tbody>\n",
        "    <tr>\n",
        "      <th>0</th>\n",
        "      <td> UNKNOWN</td>\n",
        "      <td> NO_REPORT</td>\n",
        "      <td> 4d110339028043efadb406609d05e48c</td>\n",
        "    </tr>\n",
        "    <tr>\n",
        "      <th>1</th>\n",
        "      <td> UNKNOWN</td>\n",
        "      <td> NO_REPORT</td>\n",
        "      <td> 2b31ef63ea72431a835fe4698e2c33b4</td>\n",
        "    </tr>\n",
        "    <tr>\n",
        "      <th>2</th>\n",
        "      <td>   HSPA+</td>\n",
        "      <td>      GOOD</td>\n",
        "      <td> faa723dca2e74bb29fcda8562f3289c6</td>\n",
        "    </tr>\n",
        "    <tr>\n",
        "      <th>3</th>\n",
        "      <td>   HSPA+</td>\n",
        "      <td>      GOOD</td>\n",
        "      <td> 0281c3ef7f3d40ebbb23613d61a39d41</td>\n",
        "    </tr>\n",
        "    <tr>\n",
        "      <th>4</th>\n",
        "      <td> UNKNOWN</td>\n",
        "      <td> NO_REPORT</td>\n",
        "      <td> be43cfe5a99e47a8a03be3106aab8f4a</td>\n",
        "    </tr>\n",
        "    <tr>\n",
        "      <th>5</th>\n",
        "      <td> UNKNOWN</td>\n",
        "      <td> NO_REPORT</td>\n",
        "      <td> b4835e34545841e682f08dd1a4dad1bc</td>\n",
        "    </tr>\n",
        "    <tr>\n",
        "      <th>6</th>\n",
        "      <td> UNKNOWN</td>\n",
        "      <td> NO_REPORT</td>\n",
        "      <td> 226e722788434f3681ed8d333284430d</td>\n",
        "    </tr>\n",
        "    <tr>\n",
        "      <th>7</th>\n",
        "      <td> UNKNOWN</td>\n",
        "      <td> NO_REPORT</td>\n",
        "      <td> d123f47032c147519200875d74224c52</td>\n",
        "    </tr>\n",
        "    <tr>\n",
        "      <th>8</th>\n",
        "      <td>     LTE</td>\n",
        "      <td> EXCELLENT</td>\n",
        "      <td> c0de410ea8bf4b7b9064e51f6da24f80</td>\n",
        "    </tr>\n",
        "    <tr>\n",
        "      <th>9</th>\n",
        "      <td> UNKNOWN</td>\n",
        "      <td> NO_REPORT</td>\n",
        "      <td> f687fcd8bb514353b85310f75d99dc2e</td>\n",
        "    </tr>\n",
        "  </tbody>\n",
        "</table>\n",
        "</div>"
       ],
       "metadata": {},
       "output_type": "pyout",
       "prompt_number": 5,
       "text": [
        "  network service type rssi level                               uid\n",
        "0              UNKNOWN  NO_REPORT  4d110339028043efadb406609d05e48c\n",
        "1              UNKNOWN  NO_REPORT  2b31ef63ea72431a835fe4698e2c33b4\n",
        "2                HSPA+       GOOD  faa723dca2e74bb29fcda8562f3289c6\n",
        "3                HSPA+       GOOD  0281c3ef7f3d40ebbb23613d61a39d41\n",
        "4              UNKNOWN  NO_REPORT  be43cfe5a99e47a8a03be3106aab8f4a\n",
        "5              UNKNOWN  NO_REPORT  b4835e34545841e682f08dd1a4dad1bc\n",
        "6              UNKNOWN  NO_REPORT  226e722788434f3681ed8d333284430d\n",
        "7              UNKNOWN  NO_REPORT  d123f47032c147519200875d74224c52\n",
        "8                  LTE  EXCELLENT  c0de410ea8bf4b7b9064e51f6da24f80\n",
        "9              UNKNOWN  NO_REPORT  f687fcd8bb514353b85310f75d99dc2e"
       ]
      }
     ],
     "prompt_number": 5
    },
    {
     "cell_type": "markdown",
     "metadata": {},
     "source": [
      "Drawing a pie chart (network type distribution)\n",
      "-----\n",
      "\n",
      "Let's plot the network service type distribution with a pie-chart:"
     ]
    },
    {
     "cell_type": "code",
     "collapsed": false,
     "input": [
      "%matplotlib inline\n",
      "import requests\n",
      "import json\n",
      "import matplotlib.pyplot as plt\n",
      "\n",
      "network_type_counters = {'NONE': 0, 'UNKNOWN': 0, 'GSM': 0, 'EDGE': 0, 'UMTS': 0, '3G': 0, 'HSPA': 0, 'HSPA+': 0, 'LTE': 0}\n",
      "color_map = {'NONE': 'black', 'UNKNOWN': 'white', 'GSM': 'green', 'EDGE': 'blue', 'UMTS': 'orange', '3G': 'brown', 'HSPA': 'cyan', 'HSPA+': 'magenta', 'LTE': 'red'}\n",
      "\n",
      "def get_access_token(base_url, username, password, client_id, client_secret):\n",
      "    authentication_api_url = base_url + \"/api/oauth/token?grant_type=password&username=\" + username + \"&password=\" + password\n",
      "    authentication_api_url += \"&client_id=\" + client_id + \"&client_secret=\" + client_secret\n",
      "    response = requests.get(authentication_api_url, verify=False)\n",
      "    access_token = response.json().get(\"access_token\")\n",
      "    return access_token\n",
      "\n",
      "def get_systems(base_url, access_token):\n",
      "    systems_api_url = base_url + \"/api/v1/systems?fields=uid,name,data\"\n",
      "    systems_api_url += \"&access_token=\" + access_token\n",
      "    response = requests.get(systems_api_url, verify=False)\n",
      "    return response.json().get(\"items\")\n",
      "\n",
      "def get_dataframe_from_systems(systems):\n",
      "    uids = []\n",
      "    network_service_types = []\n",
      "    rssi_levels = []\n",
      "    for system in systems:\n",
      "        data = system[\"data\"]\n",
      "        uids.append(system[\"uid\"])\n",
      "        network_service_types.append(data[\"networkServiceType\"])\n",
      "        rssi_levels.append(data[\"rssiLevel\"])\n",
      "    return DataFrame({\"uid\": uids, \"network service type\": network_service_types, \"rssi level\": rssi_levels})\n",
      "\n",
      "def update_counters(systems):\n",
      "    for system in systems:\n",
      "        data = system[\"data\"]\n",
      "        network_type_counters[data[\"networkServiceType\"]] += 1\n",
      "        \n",
      "def draw_pie():\n",
      "    labels = []\n",
      "    sizes = []\n",
      "    colors = []\n",
      "    explode = []\n",
      "    for network_type in network_type_counters:\n",
      "        labels.append(network_type)\n",
      "        sizes.append(network_type_counters[network_type])\n",
      "        colors.append(color_map[network_type])\n",
      "        if (network_type == 'UNKNOWN'):\n",
      "            explode.append(0.1)\n",
      "        else:\n",
      "            explode.append(0)\n",
      "    plt.pie(sizes, labels=labels, colors=colors, explode=explode, shadow=True)\n",
      "    # Set aspect ratio to be equal so that pie is drawn as a circle.\n",
      "    plt.axis('equal')\n",
      "    plt.show()\n",
      "    \n",
      "access_token = get_access_token(base_url, username, password, client_id, client_secret)\n",
      "systems = get_systems(base_url, access_token)\n",
      "update_counters(systems)\n",
      "draw_pie()\n",
      "\n",
      "\n"
     ],
     "language": "python",
     "metadata": {},
     "outputs": [
      {
       "metadata": {},
       "output_type": "display_data",
       "png": "[encoded data removed]",
       "text": [
        "<matplotlib.figure.Figure at 0x8383e48>"
       ]
      }
     ],
     "prompt_number": 8
    },
    {
     "cell_type": "markdown",
     "metadata": {},
     "source": [
      "That's it for now!\n",
      "-----"
     ]
    }
   ],
   "metadata": {}
  }
 ]
}