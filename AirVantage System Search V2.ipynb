{
 "metadata": {
  "name": ""
 },
 "nbformat": 3,
 "nbformat_minor": 0,
 "worksheets": [
  {
   "cells": [
    {
     "cell_type": "markdown",
     "metadata": {},
     "source": [
      "Let's test the new system search API for AirVantage!\n",
      "======"
     ]
    },
    {
     "cell_type": "code",
     "collapsed": false,
     "input": [
      "from IPython.display import HTML\n",
      "\n",
      "input_form = \"\"\"\n",
      "<div style=\"background-color:gainsboro; border:solid black; width:300px; padding:20px;\">\n",
      "UserName: <input type=\"text\" id=\"username\"><br>\n",
      "Password: <input type=\"password\" id=\"password\"><br>\n",
      "<button onclick=\"set_credentials()\">Set credentials</button>\n",
      "</div>\n",
      "\"\"\"\n",
      "\n",
      "javascript = \"\"\"\n",
      "<script type=\"text/Javascript\">\n",
      "    function set_credentials(){\n",
      "        var username = document.getElementById('username').value;\n",
      "        var password = document.getElementById('password').value;\n",
      "        var set_username = \"username = '\" + username + \"'\";\n",
      "        var set_password = \"password = '\" + password + \"'\";\n",
      "        var kernel = IPython.notebook.kernel;\n",
      "        kernel.execute(set_username);\n",
      "        kernel.execute(set_password);\n",
      "        alert(\"done!\")\n",
      "    }\n",
      "</script>\n",
      "\"\"\"\n",
      "\n",
      "HTML(input_form + javascript)"
     ],
     "language": "python",
     "metadata": {},
     "outputs": [
      {
       "html": [
        "\n",
        "<div style=\"background-color:gainsboro; border:solid black; width:300px; padding:20px;\">\n",
        "UserName: <input type=\"text\" id=\"username\"><br>\n",
        "Password: <input type=\"password\" id=\"password\"><br>\n",
        "<button onclick=\"set_credentials()\">Set credentials</button>\n",
        "</div>\n",
        "\n",
        "<script type=\"text/Javascript\">\n",
        "    function set_credentials(){\n",
        "        var username = document.getElementById('username').value;\n",
        "        var password = document.getElementById('password').value;\n",
        "        var set_username = \"username = '\" + username + \"'\";\n",
        "        var set_password = \"password = '\" + password + \"'\";\n",
        "        var kernel = IPython.notebook.kernel;\n",
        "        kernel.execute(set_username);\n",
        "        kernel.execute(set_password);\n",
        "        alert(\"done!\")\n",
        "    }\n",
        "</script>\n"
       ],
       "metadata": {},
       "output_type": "pyout",
       "prompt_number": 2,
       "text": [
        "<IPython.core.display.HTML at 0x695b208>"
       ]
      }
     ],
     "prompt_number": 2
    },
    {
     "cell_type": "code",
     "collapsed": false,
     "input": [
      "import requests\n",
      "\n",
      "base_url = \"http://54.217.54.59\"\n",
      "client_id = \"677d5537f39743e0bf17f335a66b5eeb\"\n",
      "client_secret = \"01b06779d62b4b1f825aa335526ce596\"\n",
      "\n",
      "def get_access_token(pool, base_url, username, password, client_id, client_secret):\n",
      "    authentication_api_url = base_url + \"/api/oauth/token?grant_type=password&username=\" + username + \"&password=\" + password\n",
      "    authentication_api_url += \"&client_id=\" + client_id + \"&client_secret=\" + client_secret\n",
      "    response = requests.get(authentication_api_url)\n",
      "    return response.json().get(\"access_token\")\n",
      "\n",
      "def get_systems(pool, base_url, access_token):\n",
      "    systems_api_url = base_url + \"/api/v1/systems?fields=uid,name,data\"\n",
      "    systems_api_url += \"&access_token=\" + access_token\n",
      "    response = requests.get(systems_api_url)\n",
      "    return response.json().get(\"items\")\n",
      "\n",
      "access_token = get_access_token(connection, base_url, username, password, client_id, client_secret)\n",
      "systems = get_systems(connection, base_url, access_token)\n",
      "\n",
      "systems_search_api_url = base_url + \"/api/v1/search/systems?company=1\"\n",
      "systems_search_api_url += \"&access_token=\" + access_token\n",
      "\n",
      "headers = {'content-type': 'application/json'}\n",
      "payload = {\"rootClause\":{\"operator\":\"EQUALS\",\"operands\":[{\"field\":\"name\"},{\"value\":\"A\"}]},\"limit\":10, \"fieldFacets\":[{\"field\":\"name\"}]}\n",
      "response = requests.get(systems_search_api_url, data=json.dumps(payload), headers=headers)\n",
      "print(response.text)\n",
      "print(response.json().get(\"numFound\"))"
     ],
     "language": "python",
     "metadata": {},
     "outputs": [
      {
       "output_type": "stream",
       "stream": "stdout",
       "text": [
        "{\"numFound\":0,\"start\":0,\"items\":[],\"facets\":{}}\n",
        "0\n"
       ]
      }
     ],
     "prompt_number": 42
    },
    {
     "cell_type": "code",
     "collapsed": false,
     "input": [],
     "language": "python",
     "metadata": {},
     "outputs": []
    }
   ],
   "metadata": {}
  }
 ]
}