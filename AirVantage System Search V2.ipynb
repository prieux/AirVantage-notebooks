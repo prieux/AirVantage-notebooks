{
 "metadata": {
  "name": ""
 },
 "nbformat": 3,
 "nbformat_minor": 0,
 "worksheets": [
  {
   "cells": [
    {
     "cell_type": "markdown",
     "metadata": {},
     "source": [
      "Let's test the new system search API for AirVantage!\n",
      "======\n",
      "\n",
      "As usual, one need the URL of the AirVantage server, a client id and a client secret, as well as a login and password"
     ]
    },
    {
     "cell_type": "code",
     "collapsed": false,
     "input": [
      "from IPython.display import HTML\n",
      "\n",
      "base_url = \"https://<AirVantage server>\"\n",
      "client_id = \"<your client id>\"\n",
      "client_secret = \"<your client secret>\"\n",
      "\n",
      "input_form = \"\"\"\n",
      "<div style=\"background-color:gainsboro; border:solid black; width:300px; padding:20px;\">\n",
      "UserName: <input type=\"text\" id=\"username\"><br>\n",
      "Password: <input type=\"password\" id=\"password\"><br>\n",
      "<button onclick=\"set_credentials()\">Set credentials</button>\n",
      "</div>\n",
      "\"\"\"\n",
      "\n",
      "javascript = \"\"\"\n",
      "<script type=\"text/Javascript\">\n",
      "    function set_credentials(){\n",
      "        var username = document.getElementById('username').value;\n",
      "        var password = document.getElementById('password').value;\n",
      "        var set_username = \"username = '\" + username + \"'\";\n",
      "        var set_password = \"password = '\" + password + \"'\";\n",
      "        var kernel = IPython.notebook.kernel;\n",
      "        kernel.execute(set_username);\n",
      "        kernel.execute(set_password);\n",
      "        alert(\"done!\")\n",
      "    }\n",
      "</script>\n",
      "\"\"\"\n",
      "\n",
      "HTML(input_form + javascript)"
     ],
     "language": "python",
     "metadata": {},
     "outputs": [
      {
       "html": [
        "\n",
        "<div style=\"background-color:gainsboro; border:solid black; width:300px; padding:20px;\">\n",
        "UserName: <input type=\"text\" id=\"username\"><br>\n",
        "Password: <input type=\"password\" id=\"password\"><br>\n",
        "<button onclick=\"set_credentials()\">Set credentials</button>\n",
        "</div>\n",
        "\n",
        "<script type=\"text/Javascript\">\n",
        "    function set_credentials(){\n",
        "        var username = document.getElementById('username').value;\n",
        "        var password = document.getElementById('password').value;\n",
        "        var set_username = \"username = '\" + username + \"'\";\n",
        "        var set_password = \"password = '\" + password + \"'\";\n",
        "        var kernel = IPython.notebook.kernel;\n",
        "        kernel.execute(set_username);\n",
        "        kernel.execute(set_password);\n",
        "        alert(\"done!\")\n",
        "    }\n",
        "</script>\n"
       ],
       "metadata": {},
       "output_type": "pyout",
       "prompt_number": 3,
       "text": [
        "<IPython.core.display.HTML at 0x486b5c0>"
       ]
      }
     ],
     "prompt_number": 3
    },
    {
     "cell_type": "markdown",
     "metadata": {},
     "source": [
      "Now it's time to use the new API:"
     ]
    },
    {
     "cell_type": "code",
     "collapsed": false,
     "input": [
      "import requests\n",
      "import json\n",
      "\n",
      "def get_access_token(base_url, username, password, client_id, client_secret):\n",
      "    authentication_api_url = base_url + \"/api/oauth/token?grant_type=password&username=\" + username + \"&password=\" + password\n",
      "    authentication_api_url += \"&client_id=\" + client_id + \"&client_secret=\" + client_secret\n",
      "    response = requests.get(authentication_api_url)\n",
      "    return response.json().get(\"access_token\")\n",
      "\n",
      "# former API\n",
      "def get_systems(base_url, access_token):\n",
      "    systems_api_url = base_url + \"/api/v1/systems?fields=uid,name,data\"\n",
      "    systems_api_url += \"&access_token=\" + access_token\n",
      "    response = requests.get(systems_api_url)\n",
      "    return response.json().get(\"items\")\n",
      "\n",
      "# new API\n",
      "def search_systems(base_url, access_token, payload):\n",
      "    systems_search_api_url = base_url + \"/api/v1/search/systems?company=1\"\n",
      "    systems_search_api_url += \"&access_token=\" + access_token\n",
      "    headers = {'content-type': 'application/json'}\n",
      "    response = requests.get(systems_search_api_url, data=json.dumps(payload), headers=headers)\n",
      "    return response.json().get(\"items\")\n",
      "\n",
      "access_token = get_access_token(base_url, username, password, client_id, client_secret)\n",
      "#systems = get_systems(base_url, access_token)\n",
      "#print(systems)\n",
      "\n",
      "payload = {\"rootClause\":{\"operator\":\"EQUALS\",\"operands\":[{\"field\":\"name\"},{\"value\":\"A\"}]},\"limit\":10, \"fieldFacets\":[{\"field\":\"name\"}]}\n",
      "found_systems = search_systems(base_url, access_token, payload)\n",
      "\n",
      "if (found_systems != None):\n",
      "    print(json.dumps(found_systems, sort_keys=True, indent=4, separators=(',', ': ')))\n",
      "    print(\"first system gateway uid = %s\" % found_systems[0].get(\"gateway\").get(\"uid\"))\n"
     ],
     "language": "python",
     "metadata": {},
     "outputs": []
    }
   ],
   "metadata": {}
  }
 ]
}